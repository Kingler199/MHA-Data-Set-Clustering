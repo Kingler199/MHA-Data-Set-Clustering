{
 "cells": [
  {
   "cell_type": "markdown",
   "metadata": {},
   "source": [
    "# Initial Cleaning"
   ]
  },
  {
   "cell_type": "code",
   "execution_count": 130,
   "metadata": {},
   "outputs": [],
   "source": [
    "import pandas as pd\n",
    "import numpy as np"
   ]
  },
  {
   "cell_type": "markdown",
   "metadata": {},
   "source": [
    "#### Loading Clean DF"
   ]
  },
  {
   "cell_type": "code",
   "execution_count": 131,
   "metadata": {},
   "outputs": [],
   "source": [
    "data = pd.DataFrame(pd.read_excel('CLEAN DATA FOR PANDAS MANIPULATION.xlsx'))\n",
    "for_clustering = data.copy()"
   ]
  },
  {
   "cell_type": "markdown",
   "metadata": {},
   "source": [
    "#### Checking for Null Values and Duplicates"
   ]
  },
  {
   "cell_type": "code",
   "execution_count": 132,
   "metadata": {},
   "outputs": [
    {
     "name": "stdout",
     "output_type": "stream",
     "text": [
      "Total Null 385\n"
     ]
    },
    {
     "data": {
      "text/html": [
       "<div>\n",
       "<style scoped>\n",
       "    .dataframe tbody tr th:only-of-type {\n",
       "        vertical-align: middle;\n",
       "    }\n",
       "\n",
       "    .dataframe tbody tr th {\n",
       "        vertical-align: top;\n",
       "    }\n",
       "\n",
       "    .dataframe thead th {\n",
       "        text-align: right;\n",
       "    }\n",
       "</style>\n",
       "<table border=\"1\" class=\"dataframe\">\n",
       "  <thead>\n",
       "    <tr style=\"text-align: right;\">\n",
       "      <th></th>\n",
       "      <th>Column_Names</th>\n",
       "      <th>Null Count</th>\n",
       "    </tr>\n",
       "  </thead>\n",
       "  <tbody>\n",
       "    <tr>\n",
       "      <th>0</th>\n",
       "      <td>Age</td>\n",
       "      <td>0</td>\n",
       "    </tr>\n",
       "    <tr>\n",
       "      <th>1</th>\n",
       "      <td>Gender</td>\n",
       "      <td>0</td>\n",
       "    </tr>\n",
       "    <tr>\n",
       "      <th>2</th>\n",
       "      <td>Race</td>\n",
       "      <td>0</td>\n",
       "    </tr>\n",
       "    <tr>\n",
       "      <th>3</th>\n",
       "      <td>Nationality</td>\n",
       "      <td>0</td>\n",
       "    </tr>\n",
       "    <tr>\n",
       "      <th>4</th>\n",
       "      <td>Employment status</td>\n",
       "      <td>0</td>\n",
       "    </tr>\n",
       "    <tr>\n",
       "      <th>...</th>\n",
       "      <td>...</td>\n",
       "      <td>...</td>\n",
       "    </tr>\n",
       "    <tr>\n",
       "      <th>108</th>\n",
       "      <td>Donations</td>\n",
       "      <td>0</td>\n",
       "    </tr>\n",
       "    <tr>\n",
       "      <th>109</th>\n",
       "      <td>Mentoring</td>\n",
       "      <td>0</td>\n",
       "    </tr>\n",
       "    <tr>\n",
       "      <th>110</th>\n",
       "      <td>Befriending</td>\n",
       "      <td>0</td>\n",
       "    </tr>\n",
       "    <tr>\n",
       "      <th>111</th>\n",
       "      <td>I currently assume a leadership role in my com...</td>\n",
       "      <td>0</td>\n",
       "    </tr>\n",
       "    <tr>\n",
       "      <th>112</th>\n",
       "      <td>Unnamed: 112</td>\n",
       "      <td>292</td>\n",
       "    </tr>\n",
       "  </tbody>\n",
       "</table>\n",
       "<p>113 rows × 2 columns</p>\n",
       "</div>"
      ],
      "text/plain": [
       "                                          Column_Names  Null Count\n",
       "0                                                  Age           0\n",
       "1                                               Gender           0\n",
       "2                                                 Race           0\n",
       "3                                          Nationality           0\n",
       "4                                    Employment status           0\n",
       "..                                                 ...         ...\n",
       "108                                          Donations           0\n",
       "109                                          Mentoring           0\n",
       "110                                        Befriending           0\n",
       "111  I currently assume a leadership role in my com...           0\n",
       "112                                       Unnamed: 112         292\n",
       "\n",
       "[113 rows x 2 columns]"
      ]
     },
     "execution_count": 132,
     "metadata": {},
     "output_type": "execute_result"
    }
   ],
   "source": [
    "print(f\"Total Null {for_clustering.isnull().sum().sum()}\")\n",
    "for_clustering.isnull().sum().reset_index().rename(columns = {'index':'Column_Names', 0:'Null Count'})\n"
   ]
  },
  {
   "cell_type": "code",
   "execution_count": 133,
   "metadata": {},
   "outputs": [
    {
     "name": "stdout",
     "output_type": "stream",
     "text": [
      "Number of Duplicates: 0\n"
     ]
    }
   ],
   "source": [
    "print(f'Number of Duplicates: {for_clustering.duplicated().sum()}')"
   ]
  },
  {
   "cell_type": "markdown",
   "metadata": {},
   "source": [
    "#### Removing unnecessary columns\n",
    "\n",
    "These columns are those that have a lot of null values, subjective, and consolidations."
   ]
  },
  {
   "cell_type": "code",
   "execution_count": 134,
   "metadata": {},
   "outputs": [],
   "source": [
    "for_clustering = for_clustering.drop([\n",
    "                    'Complete the sentence: \"I become a senior when ______________.\"', \n",
    "                    'Seniorhood starts at ____ years old.',\n",
    "                    'Spouse / Partner', \n",
    "                    'Are there other significant events that happened to you within the past 2 years that happened? List them down. (Indicate N.A. if not applicable)',\n",
    "                    'Unnamed: 21', \n",
    "                    'Unnamed: 35', \n",
    "                    'Unnamed: 47', \n",
    "                    'Unnamed: 82', \n",
    "                    'Unnamed: 105', \n",
    "                    'Unnamed: 112'], axis=1)"
   ]
  },
  {
   "cell_type": "code",
   "execution_count": 135,
   "metadata": {},
   "outputs": [
    {
     "name": "stdout",
     "output_type": "stream",
     "text": [
      "Pruned Data Shape : (304, 103)\n"
     ]
    }
   ],
   "source": [
    "print(f\"Pruned Data Shape : {for_clustering.shape}\")"
   ]
  },
  {
   "cell_type": "markdown",
   "metadata": {},
   "source": [
    "#### Identifying Ordinal Data"
   ]
  },
  {
   "cell_type": "code",
   "execution_count": 136,
   "metadata": {},
   "outputs": [
    {
     "name": "stdout",
     "output_type": "stream",
     "text": [
      "26\n"
     ]
    }
   ],
   "source": [
    "#These columns contain data with answers ranging from Strongly Disagree to Strongly Agree (will remain as int)\n",
    "degree_columns = [\n",
    "'To what extent do you agree with this statement: I am confident I have enough money to live the lifestyle I want / to provide for myself at this point.',\n",
    "'I am managing my health issues well so I can stay active.',\n",
    "'I am worried for my mental health. (e.g. dementia / depression)',\n",
    "'\"I don\\'t want to retire, I want to keep on working.\"',\n",
    "'\"Working gives me a sense of purpose that I cannot find anywhere else\"',\n",
    "'\"I am carefree and prefer not to think so much. I just want to relax and live out my years.\"',\n",
    "'\"I spend most of my time participating in activities with people in the community.\"',\n",
    "'\"I pamper myself, live life to the fullest and do things I enjoy.\"',\n",
    "'\"I actively help others and involve myself in the community. I want to continue giving to society.\"',\n",
    "'I am proud to call myself a senior.',\n",
    "'I am comfortable with being called a senior.',\n",
    "'I feel valued as a senior in society.',\n",
    "'I feel like society has a negative stereotype of seniors.',\n",
    "'It is difficult for me to find activities to spend time meaningfully.',\n",
    "'Because of my health, there are many activities I think I cannot do anymore.',\n",
    "'I am / was fully-prepared for retirement.',\n",
    "'If you are retired, answer this question: Retirement is what I expected it to be.',\n",
    "'I think it is important for me to keep growing in life.',\n",
    "'I am constantly challenging myself to achieve my goals.',\n",
    "'It is easy and comfortable for me to talk to people in the community.',\n",
    "'I often feel lonely.',\n",
    "'I know of activities in the neighbourhood that I can take part in.',\n",
    "'I feel a sense of belonging and ownership of spaces in my community. (e.g. community centres, parks, fitness corners, void decks)',\n",
    "'I am confident to use technology to connect with people around me.',\n",
    "'It is important for me to be involved in the community.',\n",
    "'I am satisfied with my current level of involvement in the community.',\n",
    "]\n",
    "print(len(degree_columns))"
   ]
  },
  {
   "cell_type": "code",
   "execution_count": 137,
   "metadata": {},
   "outputs": [],
   "source": [
    "_ = for_clustering[degree_columns] #error check"
   ]
  },
  {
   "cell_type": "code",
   "execution_count": 138,
   "metadata": {},
   "outputs": [],
   "source": [
    "keywords = ['often', 'many']\n",
    "ordinal_data_columns_df = for_clustering.loc[:, ~for_clustering.columns.isin(degree_columns)]\n",
    "\n",
    "#Data that will remain as an int data type\n",
    "often_many_columns = ordinal_data_columns_df.columns[ordinal_data_columns_df.columns.str.contains('|'.join(keywords))] \n",
    "\n"
   ]
  },
  {
   "cell_type": "code",
   "execution_count": 139,
   "metadata": {},
   "outputs": [],
   "source": [
    "often_many_columns = list(often_many_columns)"
   ]
  },
  {
   "cell_type": "code",
   "execution_count": 140,
   "metadata": {},
   "outputs": [],
   "source": [
    "often_many_columns.extend(['Monthly household income from work (total amount of salary income by everyone in your household)', 'Total number of people living in your household including yourself'])"
   ]
  },
  {
   "cell_type": "code",
   "execution_count": 141,
   "metadata": {},
   "outputs": [],
   "source": [
    "_ = for_clustering[often_many_columns] #error check"
   ]
  },
  {
   "cell_type": "markdown",
   "metadata": {},
   "source": [
    "#### Identifying Categorical Data\n",
    "After grouping ordinal data, it would make sense to think that the remaining columns all contain categorical data."
   ]
  },
  {
   "cell_type": "code",
   "execution_count": 142,
   "metadata": {},
   "outputs": [],
   "source": [
    "categorical_data = for_clustering.columns[~for_clustering.columns.isin(list(often_many_columns)+degree_columns)]\n",
    "categorical_data = categorical_data.drop('Age')"
   ]
  },
  {
   "cell_type": "code",
   "execution_count": 143,
   "metadata": {},
   "outputs": [
    {
     "data": {
      "text/plain": [
       "58"
      ]
     },
     "execution_count": 143,
     "metadata": {},
     "output_type": "execute_result"
    }
   ],
   "source": [
    "_ = for_clustering[categorical_data] #error Check\n",
    "len(categorical_data)"
   ]
  },
  {
   "cell_type": "markdown",
   "metadata": {},
   "source": [
    "CHECK IF GROUPED COLUMNS = FOR CLUSTERING COLUMNS"
   ]
  },
  {
   "cell_type": "code",
   "execution_count": 144,
   "metadata": {},
   "outputs": [
    {
     "name": "stdout",
     "output_type": "stream",
     "text": [
      "Total Columns Clean: 103\n",
      "Total Original DF Columns: 103\n"
     ]
    }
   ],
   "source": [
    "print(f\"Total Columns Clean: {categorical_data.shape[0]+len(degree_columns)+len(often_many_columns)+1}\") #+1 here is age\n",
    "print(f\"Total Original DF Columns: {for_clustering.shape[1]}\")"
   ]
  },
  {
   "cell_type": "markdown",
   "metadata": {},
   "source": [
    "# Clustering with KMeans"
   ]
  },
  {
   "cell_type": "code",
   "execution_count": 145,
   "metadata": {},
   "outputs": [],
   "source": [
    "from sklearn import preprocessing\n",
    "import matplotlib.pyplot as plt\n",
    "import seaborn as sns\n",
    "from sklearn.cluster import KMeans\n",
    "import numpy as np\n",
    "from yellowbrick.cluster import KElbowVisualizer\n",
    "from sklearn import metrics"
   ]
  },
  {
   "cell_type": "markdown",
   "metadata": {},
   "source": [
    "Cleaning"
   ]
  },
  {
   "cell_type": "code",
   "execution_count": 146,
   "metadata": {},
   "outputs": [
    {
     "data": {
      "text/plain": [
       "(304, 45)"
      ]
     },
     "execution_count": 146,
     "metadata": {},
     "output_type": "execute_result"
    }
   ],
   "source": [
    "#Ordinal and Numerical Data Only\n",
    "kmeans_data = for_clustering.drop(columns=categorical_data)\n",
    "kmeans_data_columns = kmeans_data.columns\n",
    "kmeans_data.shape"
   ]
  },
  {
   "cell_type": "code",
   "execution_count": 147,
   "metadata": {},
   "outputs": [],
   "source": [
    "#Scaling preprocessing\n",
    "scaler = preprocessing.MinMaxScaler()\n",
    "scaled_kmeans_data = scaler.fit_transform(kmeans_data)\n",
    "scaled_kmeans_data = pd.DataFrame(scaled_kmeans_data, columns=kmeans_data_columns)"
   ]
  },
  {
   "cell_type": "markdown",
   "metadata": {},
   "source": [
    "Looking For Correlations"
   ]
  },
  {
   "cell_type": "code",
   "execution_count": 148,
   "metadata": {},
   "outputs": [
    {
     "data": {
      "text/html": [
       "<div>\n",
       "<style scoped>\n",
       "    .dataframe tbody tr th:only-of-type {\n",
       "        vertical-align: middle;\n",
       "    }\n",
       "\n",
       "    .dataframe tbody tr th {\n",
       "        vertical-align: top;\n",
       "    }\n",
       "\n",
       "    .dataframe thead th {\n",
       "        text-align: right;\n",
       "    }\n",
       "</style>\n",
       "<table border=\"1\" class=\"dataframe\">\n",
       "  <thead>\n",
       "    <tr style=\"text-align: right;\">\n",
       "      <th></th>\n",
       "      <th>Column 1</th>\n",
       "      <th>Column_2</th>\n",
       "      <th>Correlation</th>\n",
       "    </tr>\n",
       "  </thead>\n",
       "  <tbody>\n",
       "    <tr>\n",
       "      <th>0</th>\n",
       "      <td>How often can you open up to your spouse / par...</td>\n",
       "      <td>How often can you rely on your spouse / partne...</td>\n",
       "      <td>0.840703</td>\n",
       "    </tr>\n",
       "    <tr>\n",
       "      <th>1</th>\n",
       "      <td>I am proud to call myself a senior.</td>\n",
       "      <td>I am comfortable with being called a senior.</td>\n",
       "      <td>0.814813</td>\n",
       "    </tr>\n",
       "    <tr>\n",
       "      <th>2</th>\n",
       "      <td>\"I don't want to retire, I want to keep on wor...</td>\n",
       "      <td>\"Working gives me a sense of purpose that I ca...</td>\n",
       "      <td>0.777499</td>\n",
       "    </tr>\n",
       "    <tr>\n",
       "      <th>3</th>\n",
       "      <td>How many relatives (excluding spouse) do you s...</td>\n",
       "      <td>How many relatives do you feel close to such t...</td>\n",
       "      <td>0.719707</td>\n",
       "    </tr>\n",
       "    <tr>\n",
       "      <th>4</th>\n",
       "      <td>How many colleagues do you see or hear from at...</td>\n",
       "      <td>How many colleagues do you feel close to such ...</td>\n",
       "      <td>0.694075</td>\n",
       "    </tr>\n",
       "    <tr>\n",
       "      <th>5</th>\n",
       "      <td>How many neighbours do you see or hear from at...</td>\n",
       "      <td>How many neighbours do you feel close to such ...</td>\n",
       "      <td>0.690775</td>\n",
       "    </tr>\n",
       "    <tr>\n",
       "      <th>6</th>\n",
       "      <td>\"I spend most of my time participating in acti...</td>\n",
       "      <td>\"I actively help others and involve myself in ...</td>\n",
       "      <td>0.656805</td>\n",
       "    </tr>\n",
       "    <tr>\n",
       "      <th>7</th>\n",
       "      <td>I know of activities in the neighbourhood that...</td>\n",
       "      <td>I feel a sense of belonging and ownership of s...</td>\n",
       "      <td>0.636652</td>\n",
       "    </tr>\n",
       "    <tr>\n",
       "      <th>8</th>\n",
       "      <td>I think it is important for me to keep growing...</td>\n",
       "      <td>I am constantly challenging myself to achieve ...</td>\n",
       "      <td>0.628000</td>\n",
       "    </tr>\n",
       "    <tr>\n",
       "      <th>9</th>\n",
       "      <td>How many friends do you see or hear from at le...</td>\n",
       "      <td>How many friends do you feel close to such tha...</td>\n",
       "      <td>0.607884</td>\n",
       "    </tr>\n",
       "    <tr>\n",
       "      <th>10</th>\n",
       "      <td>I am comfortable with being called a senior.</td>\n",
       "      <td>I feel valued as a senior in society.</td>\n",
       "      <td>0.589028</td>\n",
       "    </tr>\n",
       "    <tr>\n",
       "      <th>11</th>\n",
       "      <td>\"I actively help others and involve myself in ...</td>\n",
       "      <td>It is important for me to be involved in the c...</td>\n",
       "      <td>0.578540</td>\n",
       "    </tr>\n",
       "    <tr>\n",
       "      <th>12</th>\n",
       "      <td>I am proud to call myself a senior.</td>\n",
       "      <td>I feel valued as a senior in society.</td>\n",
       "      <td>0.566379</td>\n",
       "    </tr>\n",
       "    <tr>\n",
       "      <th>13</th>\n",
       "      <td>\"I actively help others and involve myself in ...</td>\n",
       "      <td>How often do you participate in volunteering a...</td>\n",
       "      <td>0.516918</td>\n",
       "    </tr>\n",
       "    <tr>\n",
       "      <th>14</th>\n",
       "      <td>How many colleagues do you feel close to such ...</td>\n",
       "      <td>How often do you socialise with colleagues?</td>\n",
       "      <td>0.516429</td>\n",
       "    </tr>\n",
       "  </tbody>\n",
       "</table>\n",
       "</div>"
      ],
      "text/plain": [
       "                                             Column 1  \\\n",
       "0   How often can you open up to your spouse / par...   \n",
       "1                 I am proud to call myself a senior.   \n",
       "2   \"I don't want to retire, I want to keep on wor...   \n",
       "3   How many relatives (excluding spouse) do you s...   \n",
       "4   How many colleagues do you see or hear from at...   \n",
       "5   How many neighbours do you see or hear from at...   \n",
       "6   \"I spend most of my time participating in acti...   \n",
       "7   I know of activities in the neighbourhood that...   \n",
       "8   I think it is important for me to keep growing...   \n",
       "9   How many friends do you see or hear from at le...   \n",
       "10       I am comfortable with being called a senior.   \n",
       "11  \"I actively help others and involve myself in ...   \n",
       "12                I am proud to call myself a senior.   \n",
       "13  \"I actively help others and involve myself in ...   \n",
       "14  How many colleagues do you feel close to such ...   \n",
       "\n",
       "                                             Column_2  Correlation  \n",
       "0   How often can you rely on your spouse / partne...     0.840703  \n",
       "1        I am comfortable with being called a senior.     0.814813  \n",
       "2   \"Working gives me a sense of purpose that I ca...     0.777499  \n",
       "3   How many relatives do you feel close to such t...     0.719707  \n",
       "4   How many colleagues do you feel close to such ...     0.694075  \n",
       "5   How many neighbours do you feel close to such ...     0.690775  \n",
       "6   \"I actively help others and involve myself in ...     0.656805  \n",
       "7   I feel a sense of belonging and ownership of s...     0.636652  \n",
       "8   I am constantly challenging myself to achieve ...     0.628000  \n",
       "9   How many friends do you feel close to such tha...     0.607884  \n",
       "10              I feel valued as a senior in society.     0.589028  \n",
       "11  It is important for me to be involved in the c...     0.578540  \n",
       "12              I feel valued as a senior in society.     0.566379  \n",
       "13  How often do you participate in volunteering a...     0.516918  \n",
       "14        How often do you socialise with colleagues?     0.516429  "
      ]
     },
     "execution_count": 148,
     "metadata": {},
     "output_type": "execute_result"
    }
   ],
   "source": [
    "\n",
    "def get_redundant_pairs(df):\n",
    "    '''Get diagonal and lower triangular pairs of correlation matrix'''\n",
    "    pairs_to_drop = set()\n",
    "    cols = df.columns\n",
    "    for i in range(0, df.shape[1]):\n",
    "        for j in range(0, i+1):\n",
    "            pairs_to_drop.add((cols[i], cols[j]))\n",
    "    return pairs_to_drop\n",
    "\n",
    "def get_top_abs_correlations(df, n=5):\n",
    "    au_corr = df.corr().abs().unstack()\n",
    "    labels_to_drop = get_redundant_pairs(df)\n",
    "    au_corr = au_corr.drop(labels=labels_to_drop).sort_values(ascending=False)\n",
    "    return au_corr[0:n]\n",
    "\n",
    "get_top_abs_correlations(scaled_kmeans_data,15).reset_index().rename(\n",
    "    columns={\n",
    "    'level_0':'Column 1', \n",
    "    \"level_1\":\"Column_2\",\n",
    "    0:'Correlation'}\n",
    "    ) #save to df if you want a file"
   ]
  },
  {
   "cell_type": "markdown",
   "metadata": {},
   "source": [
    "Identifying Right Number of Clusters"
   ]
  },
  {
   "cell_type": "code",
   "execution_count": 149,
   "metadata": {},
   "outputs": [
    {
     "data": {
      "image/png": "[encoded data removed]",
      "text/plain": [
       "<Figure size 432x288 with 2 Axes>"
      ]
     },
     "metadata": {},
     "output_type": "display_data"
    },
    {
     "data": {
      "text/plain": [
       "<AxesSubplot:title={'center':'Calinski Harabasz Score Elbow for KMeans Clustering'}, xlabel='k', ylabel='calinski harabasz score'>"
      ]
     },
     "execution_count": 149,
     "metadata": {},
     "output_type": "execute_result"
    }
   ],
   "source": [
    "elbow = KElbowVisualizer(KMeans(), k=10, metric='calinski_harabasz')\n",
    "elbow.fit(scaled_kmeans_data)\n",
    "elbow.show()\n",
    "\n",
    "\n",
    "#Notes: calinski_harabasz metric identified that optimal clusters = 2"
   ]
  },
  {
   "cell_type": "markdown",
   "metadata": {},
   "source": [
    "Fitting"
   ]
  },
  {
   "cell_type": "code",
   "execution_count": 150,
   "metadata": {},
   "outputs": [
    {
     "name": "stdout",
     "output_type": "stream",
     "text": [
      "Cluster: 2 Score: 0.0946866716590318\n",
      "Cluster: 3 Score: 0.07028645185894673\n",
      "Cluster: 4 Score: 0.057316718945598824\n",
      "Cluster: 5 Score: 0.057496655835702765\n",
      "Cluster: 6 Score: 0.05570373313336295\n",
      "Cluster: 7 Score: 0.04949308419861078\n",
      "Cluster: 8 Score: 0.0507511229434971\n",
      "Cluster: 9 Score: 0.051306102880726144\n",
      "Cluster: 10 Score: 0.04087924518284707\n",
      "Cluster: 11 Score: 0.046808391310721974\n",
      "Cluster: 12 Score: 0.04187587255413129\n",
      "Cluster: 13 Score: 0.04354016730393677\n",
      "Cluster: 14 Score: 0.03805474552107998\n",
      "Cluster: 15 Score: 0.0478818675611754\n"
     ]
    }
   ],
   "source": [
    "#for the sake of making sure, I will loop from k1 to k10 and compare silhouette scores. \n",
    "def best_silhouette_score():\n",
    "    for i in range(2,16):\n",
    "        kmeans = KMeans(n_clusters=i, random_state=69)\n",
    "        kmeans.fit(scaled_kmeans_data)\n",
    "        print(f\"Cluster: {i} Score: {metrics.silhouette_score(scaled_kmeans_data, kmeans.labels_)}\")\n",
    "\n",
    "best_silhouette_score()\n",
    "# n_clusters = 2 has the best silhouette score. Therefore it is what we will use.\n",
    "        "
   ]
  },
  {
   "cell_type": "code",
   "execution_count": 151,
   "metadata": {},
   "outputs": [
    {
     "name": "stdout",
     "output_type": "stream",
     "text": [
      "{0: 168, 1: 136}\n"
     ]
    }
   ],
   "source": [
    "#Final Fitting\n",
    "kmeans = KMeans(n_clusters=2, random_state=69)\n",
    "kmeans.fit(scaled_kmeans_data)\n",
    "\n",
    "labels = kmeans.labels_\n",
    "unique, counts = np.unique(kmeans.labels_, return_counts=True) #distribution of labels\n",
    "print(dict(zip(unique, counts)))"
   ]
  },
  {
   "cell_type": "markdown",
   "metadata": {},
   "source": [
    "Plot"
   ]
  },
  {
   "cell_type": "code",
   "execution_count": 152,
   "metadata": {},
   "outputs": [
    {
     "data": {
      "image/png": "[encoded data removed]",
      "text/plain": [
       "<Figure size 432x288 with 1 Axes>"
      ]
     },
     "metadata": {
      "needs_background": "light"
     },
     "output_type": "display_data"
    }
   ],
   "source": [
    "def plotting_cluster():\n",
    "    plotting = scaler.fit_transform(kmeans_data) #data in array form\n",
    "    k = KMeans(n_clusters=2, random_state=69)\n",
    "    label = k.fit_predict(plotting)\n",
    "    #filter rows of original data\n",
    "    filtered_label0 = df[label == 0]\n",
    "    filtered_label1 = df[label == 1]\n",
    "    \n",
    "    #plotting the results\n",
    "    plt.scatter(filtered_label0[:,0] , filtered_label0[:,1],color='red')\n",
    "    plt.scatter(filtered_label1[:,0] , filtered_label1[:,1],color='blue')\n",
    "\n",
    "    plt.show()\n",
    "\n",
    "plotting_cluster()\n"
   ]
  },
  {
   "cell_type": "markdown",
   "metadata": {},
   "source": [
    "# Random Forest"
   ]
  },
  {
   "cell_type": "code",
   "execution_count": 153,
   "metadata": {},
   "outputs": [],
   "source": [
    "from sklearn.ensemble import RandomForestClassifier\n",
    "from sklearn.model_selection import train_test_split"
   ]
  },
  {
   "cell_type": "code",
   "execution_count": 154,
   "metadata": {},
   "outputs": [],
   "source": [
    "rf_data = scaled_kmeans_data\n",
    "rf_data['labels'] = labels"
   ]
  },
  {
   "cell_type": "markdown",
   "metadata": {},
   "source": [
    "Fitting"
   ]
  },
  {
   "cell_type": "code",
   "execution_count": 155,
   "metadata": {},
   "outputs": [
    {
     "name": "stdout",
     "output_type": "stream",
     "text": [
      "(212, 45) (92, 45) (212,) (92,)\n"
     ]
    }
   ],
   "source": [
    "train = rf_data.drop(columns='labels')\n",
    "test = rf_data['labels']\n",
    "X_train, X_test, y_train, y_test=train_test_split(train,test ,test_size=0.30,random_state=69)\n",
    "print(X_train.shape, X_test.shape, y_train.shape, y_test.shape)\n"
   ]
  },
  {
   "cell_type": "code",
   "execution_count": 156,
   "metadata": {},
   "outputs": [],
   "source": [
    "rf = RandomForestClassifier()\n",
    "rf.fit(X_train, y_train)\n",
    "y_pred = rf.predict(X_test)\n"
   ]
  },
  {
   "cell_type": "code",
   "execution_count": 157,
   "metadata": {},
   "outputs": [
    {
     "data": {
      "text/plain": [
       "Text(0.5, 1.0, 'Feature Importance Ranking')"
      ]
     },
     "execution_count": 157,
     "metadata": {},
     "output_type": "execute_result"
    },
    {
     "data": {
      "image/png": "[encoded data removed]",
      "text/plain": [
       "<Figure size 432x288 with 1 Axes>"
      ]
     },
     "metadata": {
      "needs_background": "light"
     },
     "output_type": "display_data"
    }
   ],
   "source": [
    "feature_importances=rf.feature_importances_\n",
    "feature_importances_df=pd.DataFrame({'Variable':list(X_train), 'Variable importance':feature_importances})\n",
    "\n",
    "feature_importances_df.sort_values('Variable importance',ascending=False)\n",
    "\n",
    "feat_importances = pd.Series(rf.feature_importances_, index=train.columns)\n",
    "\n",
    "feat_importances.nlargest(10).plot(kind='barh')\n",
    "plt.title(\"Feature Importance Ranking\")"
   ]
  },
  {
   "cell_type": "markdown",
   "metadata": {},
   "source": [
    "# FOR SAVING"
   ]
  },
  {
   "cell_type": "code",
   "execution_count": 159,
   "metadata": {},
   "outputs": [],
   "source": [
    "importance_df = feature_importances_df.sort_values(by='Variable importance',ascending=False) #for excel save\n",
    "\n",
    "labeled_df = kmeans_data\n",
    "labeled_df['labels'] = labels #for excel save\n",
    "\n",
    "top_15_most_correlated = get_top_abs_correlations(scaled_kmeans_data,15).reset_index().rename(columns={'level_0':'Column 1', \"level_1\":\"Column_2\",0:'Correlation'})\n"
   ]
  },
  {
   "cell_type": "code",
   "execution_count": null,
   "metadata": {},
   "outputs": [],
   "source": []
  }
 ],
 "metadata": {
  "kernelspec": {
   "display_name": "Python 3.10.5 64-bit (windows store)",
   "language": "python",
   "name": "python3"
  },
  "language_info": {
   "codemirror_mode": {
    "name": "ipython",
    "version": 3
   },
   "file_extension": ".py",
   "mimetype": "text/x-python",
   "name": "python",
   "nbconvert_exporter": "python",
   "pygments_lexer": "ipython3",
   "version": "3.10.5"
  },
  "orig_nbformat": 4,
  "vscode": {
   "interpreter": {
    "hash": "9deea79bfd8769c20cdb41e577c31349975f53057f7c4a88718c49dab3f025eb"
   }
  }
 },
 "nbformat": 4,
 "nbformat_minor": 2
}
